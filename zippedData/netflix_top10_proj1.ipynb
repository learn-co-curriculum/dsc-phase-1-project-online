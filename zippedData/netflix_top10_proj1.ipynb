{
 "cells": [
  {
   "cell_type": "code",
   "execution_count": 3,
   "metadata": {},
   "outputs": [],
   "source": [
    "from bs4 import BeautifulSoup\n",
    "import requests"
   ]
  },
  {
   "cell_type": "code",
   "execution_count": 4,
   "metadata": {},
   "outputs": [],
   "source": [
    "url_netflix = 'https://www.the-numbers.com/netflix-top-10'\n",
    "response_ntflx = requests.get(url_netflix)\n",
    "soup = BeautifulSoup(response_ntflx.content, 'html.parser')"
   ]
  },
  {
   "cell_type": "code",
   "execution_count": 9,
   "metadata": {
    "scrolled": true
   },
   "outputs": [
    {
     "data": {
      "text/plain": [
       "'<!DOCTYPE html>\\n<html xmlns:fb=\"http://www.facebook.com/2008/fbml\" xmlns:og=\"http://ogp.me/ns#\">\\n <head>\\n  <!-- Global site tag (gtag.js) - Google Analytics -->\\n  <script async=\"\" src=\"https://www.googletagmanager.com/gtag/js?id=UA-1343128-1\">\\n  </script>\\n  <script>\\n   window.dataLayer = window.dataLayer || [];\\r\\n  function gtag(){dataLayer.push(arguments);}\\r\\n  gtag(\\'js\\', new Date());\\r\\n\\r\\n  gtag(\\'config\\', \\'UA-1343128-1\\');\\n  </script>\\n  <meta content=\\'(PICS-1.1 \"https://www.icra.org/ratingsv02.html\" l gen true for \"https://www.the-numbers.com/\" r (cb 1 lz 1 nz 1 oz 1 vz 1) \"https://www.rsac.org/ratingsv01.html\" l gen true for \"https://www.the-numbers.com/\" r (n 0 s 0 v 0 l 0))\\' http-equiv=\"PICS-Label\"/>\\n  <!--<meta http-equiv=\"Content-Type\" content=\"text/html; charset=ISO-8859-1\" >-->\\n  <meta content=\"text/html; charset=utf-8\" http-equiv=\"Content-Type\"/>\\n  <meta content=\"telephone=no\" name=\"format-detection\"/>\\n  <!-- for apple mobile -->\\n  <meta content=\"521546213\" property=\"fb:admins\">\\n   <meta content=\"initial-scale=1\" name=\"viewport\"/>\\n   <meta content=\"Netflix Top 10 in the United States.\" name=\"description\"/>\\n   <meta content=\"NOODP\" name=\"robots\"/>\\n   <meta content=\"Netflix, Top 10, United States\" name=\"keywords\"/>\\n   <meta content=\"Netflix Top 10 in the United States\" property=\"og:title\"/>\\n   <meta content=\"article\" property=\"og:type\"/>\\n   <meta content=\"https://www.the-numbers.com/netflix-top-10\" property=\"og:url\"/>\\n   <meta content=\"Netflix Top 10 in the United States.\" property=\"og:description\"/>\\n   <meta content=\"The Numbers\" property=\"og:site_name\"/>\\n   <meta content=\"https://www.the-numbers.com/images/the-numbers-833x200.jpg\" property=\"og:image\"/>\\n   <meta content=\"833\" property=\"og:image:width\"/>\\n   <meta content=\"200\" property=\"og:image:height\"/>\\n   <meta content=\"The-Numbers Image\" property=\"og:image:alt\"/>\\n   <meta content=\"summary_large_image\" name=\"twitter:card\"/>\\n   <meta content=\"@MovieNumbers\" name=\"twitter:site\"/>\\n   <meta content=\"Netflix Top 10 in the United States\" name=\"twitter:title\"/>\\n   <meta content=\"Netflix Top 10 in the United States.\" name=\"twitter:description\"/>\\n   <meta content=\"https://www.the-numbers.com/netflix-top-10\" name=\"twitter:url\"/>\\n   <meta content=\"https://www.the-numbers.com/images/the-numbers-833x200.jpg\" name=\"twitter:image\"/>\\n   <meta content=\"1585976611658631\" property=\"fb:app_id\"/>\\n   <title>\\n    Netflix Top 10 in the United States\\n   </title>\\n   <link href=\"/resources/the-numbers-desktop-combined.css\" rel=\"stylesheet\" type=\"text/css\"/>\\n   <link href=\"https://m.the-numbers.com/netflix-top-10\" media=\"only screen and (max-width: 640px)\" rel=\"alternate\"/>\\n   <script type=\"text/javascript\">\\n    if (screen.width <= 640)\\r\\n\\t{\\r\\n        window.location = \"https://m.the-numbers.com/netflix-top-10\";\\r\\n    }\\n   </script>\\n   <!-- Begin comScore Tag -->\\n   <script async=\"\">\\n    var _comscore = _comscore || [];\\r\\n_comscore.push({ c1: \"2\", c2: \"9873768\" });\\r\\n(function() {\\r\\n var s = document.createElement(\"script\"), el = document.getElementsByTagName(\"script\")[0]; s.async = true;\\r\\n s.src = (document.location.protocol == \"https:\" ? \"https://sb\" : \"http://b\") + \".scorecardresearch.com/beacon.js\";\\r\\n el.parentNode.insertBefore(s, el);\\r\\n })();\\n   </script>\\n   <noscript>\\n    <img src=\"https://b.scorecardresearch.com/p?c1=2&amp;c2=9873768&amp;cv=2.0&amp;cj=1\"/>\\n   </noscript>\\n   <!-- End comScore Tag -->\\n   <!-- Header Tag Code -->\\n   <script data-cfasync=\"false\" type=\"text/javascript\">\\n    /*<![CDATA[*/(function (a, c, s, u){\\'Insticator\\'in a || (a.Insticator={ad:{loadAd: function (b){Insticator.ad.q.push(b)}, q: []}, helper:{}, embed:{}, version: \"3.0\", q: [], load: function (t, o){Insticator.q.push({t: t, o: o})}}); var b=c.createElement(s); b.src=u; b.async=!0; var d=c.getElementsByTagName(s)[0]; d.parentNode.insertBefore(b, d)})(window, document, \\'script\\', \\'//d2na2p72vtqyok.cloudfront.net/client-embed/65b21a35-f662-4947-80ea-07d6b99277bf.js\\');/*\\r\\n]]>*/\\n   </script>\\n   <!-- End Header Tag Code -->\\n   <script async=\"\" src=\"//pagead2.googlesyndication.com/pagead/js/adsbygoogle.js\">\\n   </script>\\n   <script>\\n    (adsbygoogle = window.adsbygoogle || []).push({\\r\\n          google_ad_client: \"ca-pub-0505053220181058\",\\r\\n          enable_page_level_ads: true\\r\\n     });\\n   </script>\\n  </meta>\\n </head>\\n <body>\\n  <script>\\n   window.fbAsyncInit = function() {\\r\\n    FB.init({\\r\\n      appId            : \\'1585976611658631\\',\\r\\n      autoLogAppEvents : true,\\r\\n      xfbml            : true,\\r\\n      version          : \\'v2.9\\'\\r\\n    });\\r\\n    FB.AppEvents.logPageView();\\r\\n  };\\r\\n\\r\\n  (function(d, s, id){\\r\\n     var js, fjs = d.getElementsByTagName(s)[0];\\r\\n     if (d.getElementById(id)) {return;}\\r\\n     js = d.createElement(s); js.id = id;\\r\\n     js.src = \"//connect.facebook.net/en_US/sdk.js\";\\r\\n     fjs.parentNode.insertBefore(js, fjs);\\r\\n   }(document, \\'script\\', \\'facebook-jssdk\\'));\\n  </script>\\n  <div id=\"wrap\">\\n   <div id=\"header\">\\n    <a href=\"/\">\\n     <img alt=\"The Numbers - Where Data and Movies Meet\" border=\"0\" height=\"67\" src=\"/images/the-numbers-banner.png\" width=\"524\"/>\\n     ®\\n     <br/>\\n     Where Data and the Movie Business Meet\\n    </a>\\n   </div>\\n   <div id=\"header_right\" style=\"background: #663366; width:200px; height: 96px;\">\\n    <div style=\"float:right;\">\\n     Follow us on\\n     <a href=\"https://www.facebook.com/TheNumbers\" target=\"_blank\">\\n      <img height=\"32\" src=\"https://www.the-numbers.com/images/icons/facebook.png\" style=\"border:none;\" title=\"Follow The Numbers on Facebook\" width=\"32\"/>\\n     </a>\\n     <a href=\"https://www.twitter.com/MovieNumbers\" target=\"_blank\" title=\"Follow The Numbers on Twitter\">\\n      <img height=\"32\" src=\"https://www.the-numbers.com/images/icons/twitter.png\" style=\"border:none;\" width=\"32\"/>\\n     </a>\\n    </div>\\n   </div>\\n   <div id=\"nav\">\\n    <ul>\\n     <li>\\n      <a href=\"/news\">\\n       News\\n      </a>\\n      <ul>\\n       <li>\\n        <a href=\"/news\">\\n         Latest News\\n        </a>\\n       </li>\\n       <li>\\n        <a href=\"/rss-feed\">\\n         RSS Feed\\n        </a>\\n       </li>\\n       <li>\\n        <a href=\"/movies/release-schedule\">\\n         Release Schedule\\n        </a>\\n       </li>\\n       <li>\\n        <a href=\"/on-this-day\">\\n         On This Day\\n        </a>\\n       </li>\\n       <li>\\n        <a href=\"/oscars\">\\n         Oscars\\n        </a>\\n       </li>\\n      </ul>\\n     </li>\\n     <li>\\n      <a href=\"/box-office\">\\n       Box Office\\n      </a>\\n      <ul>\\n       <li>\\n        <a href=\"/daily-box-office-chart\">\\n         Daily Chart\\n        </a>\\n       </li>\\n       <li>\\n        <a href=\"/weekend-box-office-chart\">\\n         Weekend Chart\\n        </a>\\n       </li>\\n       <li>\\n        <a href=\"/weekly-box-office-chart\">\\n         Weekly Chart\\n        </a>\\n       </li>\\n       <li>\\n        <a href=\"/market/\">\\n         Theatrical Market\\n        </a>\\n       </li>\\n       <li>\\n        <a href=\"/international-charts-overview\">\\n         International Charts\\n        </a>\\n       </li>\\n       <li>\\n        <a href=\"/box-office-records/\">\\n         Records\\n        </a>\\n       </li>\\n       <li>\\n        <a href=\"/box-office\">\\n         Chart Index\\n        </a>\\n       </li>\\n       <li>\\n        <a href=\"/movies/release-schedule\">\\n         Release Schedule\\n        </a>\\n       </li>\\n       <li>\\n        <a href=\"/box-office-records/domestic/all-movies/cumulative/released-in-2020\">\\n         2020 Domestic\\n        </a>\\n       </li>\\n       <li>\\n        <a href=\"/box-office-records/worldwide/all-movies/cumulative/released-in-2020\">\\n         2020 Worldwide\\n        </a>\\n       </li>\\n      </ul>\\n     </li>\\n     <li>\\n      <a href=\"/weekly-dvd-sales-chart\">\\n       Home Video\\n      </a>\\n      <ul>\\n       <li>\\n        <a href=\"/weekly-dvd-sales-chart\">\\n         Weekly DVD Chart\\n        </a>\\n       </li>\\n       <li>\\n        <a href=\"/weekly-bluray-sales-chart\">\\n         Weekly Blu-ray Chart\\n        </a>\\n       </li>\\n       <li>\\n        <a href=\"/weekly-video-sales-chart\">\\n         Weekly Combined DVD+Blu-ray Chart\\n        </a>\\n       </li>\\n       <li>\\n        <a href=\"/weekly-deg-watched-at-home-chart\">\\n         DEG Watched at Home Top 20 Chart\\n        </a>\\n       </li>\\n       <li>\\n        <a href=\"/netflix-top-10\">\\n         Netflix Daily Top 10\\n        </a>\\n       </li>\\n       <li>\\n        <a href=\"/home-market/dvd-sales/2020\">\\n         2020 DVD Chart\\n        </a>\\n       </li>\\n       <li>\\n        <a href=\"/home-market/bluray-sales/2020\">\\n         2020 Blu-ray Chart\\n        </a>\\n       </li>\\n       <li>\\n        <a href=\"/home-market/packaged-media-sales/2020\">\\n         2020 Combined Chart\\n        </a>\\n       </li>\\n       <li>\\n        <a href=\"/alltime-bluray-sales-chart\">\\n         All-Time Blu-ray\\n        </a>\\n       </li>\\n       <li>\\n        <a href=\"/home-market/release-schedule\">\\n         Release Schedule\\n        </a>\\n       </li>\\n       <li>\\n        <a href=\"/home-market/distributors\">\\n         Distributors\\n        </a>\\n       </li>\\n      </ul>\\n     </li>\\n     <li>\\n      <a href=\"/movies\">\\n       Movies\\n      </a>\\n      <ul>\\n       <li>\\n        <a href=\"/movie/budgets\">\\n         Budgets and Finances\\n        </a>\\n       </li>\\n       <li>\\n        <a href=\"/movies/franchises\">\\n         Franchises\\n        </a>\\n       </li>\\n       <li>\\n        <a href=\"/movies/keywords\">\\n         Keywords\\n        </a>\\n       </li>\\n       <li>\\n        <a href=\"/movies\">\\n         Movie Index\\n        </a>\\n       </li>\\n       <li>\\n        <a href=\"/movies/release-schedule\">\\n         Release Schedule\\n        </a>\\n       </li>\\n       <li>\\n        <a href=\"/movies/most-anticipated\">\\n         Most Anticipated\\n        </a>\\n       </li>\\n       <li>\\n        <a href=\"/movies/trending\">\\n         Trending Movies\\n        </a>\\n       </li>\\n       <li>\\n        <a href=\"/movies/production-companies/\">\\n         Production Companies\\n        </a>\\n       </li>\\n       <li>\\n        <a href=\"/movies/production-countries/\">\\n         Production Countries\\n        </a>\\n       </li>\\n       <li>\\n        <a href=\"/movies/languages\">\\n         Languages\\n        </a>\\n       </li>\\n       <li>\\n        <a href=\"/movies/comparisons\">\\n         Comparisons\\n        </a>\\n       </li>\\n       <li>\\n        <a href=\"/movies/report-builder\">\\n         Report Builder\\n        </a>\\n       </li>\\n      </ul>\\n     </li>\\n     <li>\\n      <a href=\"/people-index\">\\n       People\\n      </a>\\n      <ul>\\n       <li>\\n        <a href=\"/bankability\">\\n         Bankability\\n        </a>\\n       </li>\\n       <li>\\n        <a href=\"/box-office-star-records/\">\\n         Records\\n        </a>\\n       </li>\\n       <li>\\n        <a href=\"/people-index\">\\n         People Index\\n        </a>\\n       </li>\\n       <li>\\n        <a href=\"/people/trending\">\\n         Trending People\\n        </a>\\n       </li>\\n       <li>\\n        <a href=\"/box-office-star-records/domestic/yearly-acting/highest-grossing-2020-stars\">\\n         Highest Grossing Stars of 2020\\n        </a>\\n       </li>\\n      </ul>\\n     </li>\\n     <li>\\n      <a href=\"/research-tools\">\\n       Research Tools\\n      </a>\\n      <ul>\\n       <li>\\n        <a href=\"/movies/report-builder\">\\n         Report Builder\\n        </a>\\n       </li>\\n       <li>\\n        <a href=\"/movies/keywords\">\\n         Keyword Analysis\\n        </a>\\n       </li>\\n       <li>\\n        <a href=\"/movies/custom-comparisons\">\\n         Movie Comparison\\n        </a>\\n       </li>\\n       <li>\\n        <a href=\"/custom-search\">\\n         Search\\n        </a>\\n       </li>\\n      </ul>\\n     </li>\\n     <li>\\n      <a href=\"/our-services\">\\n       Our Services\\n      </a>\\n      <ul>\\n       <li>\\n        <a href=\"/research-services\">\\n         Research Services\\n        </a>\\n       </li>\\n       <li>\\n        <a href=\"/data-services\">\\n         Data Services\\n        </a>\\n       </li>\\n       <li>\\n        <a href=\"/bankability\">\\n         Bankability\\n        </a>\\n       </li>\\n       <li>\\n        <a href=\"/about-us\">\\n         About Us\\n        </a>\\n       </li>\\n       <li>\\n        <a href=\"/support-us\">\\n         Support Us\\n        </a>\\n       </li>\\n       <li>\\n        <a href=\"/contact\">\\n         Contact\\n        </a>\\n       </li>\\n      </ul>\\n     </li>\\n     <li>\\n      <a href=\"/users/my-numbers\">\\n       My Numbers\\n      </a>\\n      <ul>\\n       <li>\\n        <a href=\"/users/register\">\\n         Register\\n        </a>\\n       </li>\\n       <li>\\n        <a href=\"/users/login\">\\n         Login\\n        </a>\\n       </li>\\n       <li>\\n        <a href=\"/users/forgot-password\">\\n         Forgot Password\\n        </a>\\n       </li>\\n      </ul>\\n     </li>\\n     <li style=\"background: #ffcc00;\">\\n      <a href=\"https://m.the-numbers.com/netflix-top-10?from_desktop=Yes\" rel=\"nofollow\" style=\"background: #ffcc00;\">\\n       Mobile Website\\n      </a>\\n     </li>\\n     <li>\\n      <a href=\"/users/register\">\\n       Register\\n      </a>\\n     </li>\\n     <li>\\n      <a href=\"/users/login?backtopage=/netflix-top-10\">\\n       Login\\n      </a>\\n     </li>\\n    </ul>\\n   </div>\\n  </div>\\n </body>\\n</html>\\n<div id=\"banneradnew\">\\n <center>\\n  <script type=\"text/javascript\">\\n   <!--\\r\\ne9 = new Object();\\r\\ne9.size = \"728x90,970x250\";\\r\\n//-->\\n  </script>\\n  <script src=\"//tags.expo9.exponential.com/tags/TheNumbers/ROS/tags.js\" type=\"text/javascript\">\\n  </script>\\n </center>\\n</div>\\n<div id=\"main\">\\n <div id=\"news\">\\n  <div style=\"float:right\">\\n   <br/>\\n   <ul id=\"social_vertical\">\\n    <li>\\n     <a class=\"twitter-share-button\" data-text=\"Netflix Top 10 in the United States\" data-via=\"MovieNumbers\" href=\"https://twitter.com/share\" rel=\"nofollow\">\\n     </a>\\n     <script>\\n      !function(d,s,id){var js,fjs=d.getElementsByTagName(s)[0];if(!d.getElementById(id)){js=d.createElement(s);js.id=id;js.src=\"//platform.twitter.com/widgets.js\";fjs.parentNode.insertBefore(js,fjs);}}(document,\"script\",\"twitter-wjs\");\\n     </script>\\n    </li>\\n    <li>\\n     <div class=\"fb-share-button\" data-href=\"https://www.the-numbers.com/netflix-top-10\" data-layout=\"button_count\">\\n     </div>\\n    </li>\\n    <li>\\n     <div class=\"fb-like\" data-action=\"like\" data-colorscheme=\"light\" data-href=\"https://www.the-numbers.com/netflix-top-10\" data-layout=\"button_count\" data-send=\"false\" data-show-faces=\"false\">\\n     </div>\\n    </li>\\n    <li>\\n     <script src=\"//platform.linkedin.com/in.js\" type=\"text/javascript\">\\n     </script>\\n     <script data-counter=\"right\" type=\"IN/Share\">\\n     </script>\\n    </li>\\n   </ul>\\n  </div>\\n </div>\\n <div id=\"news\">\\n  <p>\\n   <br/>\\n   See also:\\n   <a href=\"/weekly-dvd-sales-chart\">\\n    Weekly DVD Sales Chart\\n   </a>\\n   -\\n   <a href=\"/weekly-bluray-sales-chart\">\\n    Weekly Blu-ray Sales Chart\\n   </a>\\n   -\\n   <a href=\"/weekly-video-sales-chart\">\\n    Weekly DVD and Blu-ray Sales Combined Chart\\n   </a>\\n   -\\n   <a href=\"/weekly-deg-watched-at-home-chart\">\\n    DEG Watched at Home Top 20\\n   </a>\\n   <h1>\\n    Netflix Top 10 in the United States\\n   </h1>\\n   <p>\\n    For October 3, 2020\\n   </p>\\n  </p>\\n </div>\\n <table class=\"pintable\">\\n  <tr>\\n   <td class=\"previous\">\\n    <a href=\"/home-market/netflix-daily-chart/2020/10/02\">\\n     ← Previous Chart\\n    </a>\\n   </td>\\n   <td class=\"index\">\\n    <a href=\"/home-market/netflix-chart-archive\">\\n     Chart Index\\n    </a>\\n   </td>\\n   <td class=\"next\">\\n   </td>\\n  </tr>\\n </table>\\n <div class=\"clearfloats\">\\n </div>\\n <div id=\"page_filling_chart\">\\n  <center>\\n   <table align=\"center\" border=\"0\" cellpadding=\"2\" cellspacing=\"0\">\\n    <tr>\\n     <th>\\n      Rank\\n     </th>\\n     <th>\\n      YD\\n     </th>\\n     <th>\\n      LW\\n     </th>\\n     <th>\\n      Title\\n     </th>\\n     <th>\\n      Type\\n     </th>\\n     <th>\\n      Netflix\\n      <br/>\\n      Excl.\\n     </th>\\n     <th>\\n      Netflix\\n      <br/>\\n      Release\\n      <br/>\\n      Date\\n     </th>\\n     <th>\\n      Days In\\n      <br/>\\n      Top 10\\n     </th>\\n     <th>\\n      Viewer-\\n      <br/>\\n      ship\\n      <br/>\\n      Score\\n     </th>\\n     <th>\\n      Watch\\n      <br/>\\n      Now\\n     </th>\\n    </tr>\\n    <tr>\\n     <td class=\"data\" data-sort=\"1\">\\n      1\\n     </td>\\n     <td class=\"data\" data-sort=\"1\">\\n      (1)\\n     </td>\\n     <td class=\"data\" data-sort=\"999\">\\n      (-)\\n     </td>\\n     <td>\\n      <b>\\n       <a href=\"/movie/American-Murder-The-Family-Next-Door-(2020)#tab=video-sales\">\\n        American Murder: The Family…\\n       </a>\\n      </b>\\n     </td>\\n    </tr>\\n   </table>\\n  </center>\\n </div>\\n</div>\\n<td>\\n Movie\\n</td>\\n<td class=\"data\">\\n Yes\\n</td>\\n<td>\\n <a href=\"/home-market/netflix-daily-chart/2020/09/30\">\\n  Sep 30, 2020\\n </a>\\n</td>\\n<td class=\"data\">\\n 3\\n</td>\\n<td class=\"data\">\\n 30\\n</td>\\n<td>\\n <a href=\"https://www.netflix.com/title/81130130\" rel=\"nofollow\" target=\"_NewWindow\">\\n  Watch Now\\n </a>\\n</td>\\n<tr>\\n <td class=\"data\" data-sort=\"2\">\\n  2\\n </td>\\n <td class=\"data\" data-sort=\"2\">\\n  (2)\\n </td>\\n <td class=\"data\" data-sort=\"2\">\\n  (2)\\n </td>\\n <td>\\n  <b>\\n   <a href=\"/tv-show/Ratched#tab=netflix\">\\n    Ratched\\n   </a>\\n  </b>\\n </td>\\n</tr>\\n<td>\\n TV Show\\n</td>\\n<td class=\"data\">\\n Yes\\n</td>\\n<td>\\n <a href=\"/home-market/netflix-daily-chart/2020/09/18\">\\n  Sep 18, 2020\\n </a>\\n</td>\\n<td class=\"data\">\\n 15\\n</td>\\n<td class=\"data\">\\n 145\\n</td>\\n<td>\\n <a href=\"https://www.netflix.com/title/80213445\" rel=\"nofollow\" target=\"_NewWindow\">\\n  Watch Now\\n </a>\\n</td>\\n<tr>\\n <td class=\"data\" data-sort=\"3\">\\n  3\\n </td>\\n <td class=\"data\" data-sort=\"3\">\\n  (3)\\n </td>\\n <td class=\"data\" data-sort=\"999\">\\n  (-)\\n </td>\\n <td>\\n  <b>\\n   <a href=\"/movie/Outpost-The#tab=video-sales\">\\n    The Outpost\\n   </a>\\n  </b>\\n </td>\\n</tr>\\n<td>\\n Movie\\n</td>\\n<td>\\n</td>\\n<td>\\n</td>\\n<td class=\"data\">\\n 2\\n</td>\\n<td class=\"data\">\\n 16\\n</td>\\n<td>\\n <a href=\"https://www.netflix.com/title/81276140\" rel=\"nofollow\" target=\"_NewWindow\">\\n  Watch Now\\n </a>\\n</td>\\n<tr>\\n <td class=\"data\" data-sort=\"4\">\\n  4\\n </td>\\n <td class=\"data\" data-sort=\"999\">\\n  (-)\\n </td>\\n <td class=\"data\" data-sort=\"999\">\\n  (-)\\n </td>\\n <td>\\n  <b>\\n   <a href=\"/tv-show/Emily-in-Paris#tab=netflix\">\\n    Emily in Paris\\n   </a>\\n  </b>\\n </td>\\n</tr>\\n<td>\\n TV Show\\n</td>\\n<td class=\"data\">\\n Yes\\n</td>\\n<td>\\n <a href=\"/home-market/netflix-daily-chart/2020/10/02\">\\n  Oct 2, 2020\\n </a>\\n</td>\\n<td class=\"data\">\\n 1\\n</td>\\n<td class=\"data\">\\n 7\\n</td>\\n<td>\\n</td>\\n<tr>\\n <td class=\"data chart_down\" data-sort=\"5\">\\n  5\\n </td>\\n <td class=\"data\" data-sort=\"4\">\\n  (4)\\n </td>\\n <td class=\"data\" data-sort=\"1\">\\n  (1)\\n </td>\\n <td>\\n  <b>\\n   <a href=\"/movie/Enola-Holmes#tab=video-sales\">\\n    Enola Holmes\\n   </a>\\n  </b>\\n </td>\\n</tr>\\n<td>\\n Movie\\n</td>\\n<td class=\"data\">\\n Yes\\n</td>\\n<td>\\n <a href=\"/home-market/netflix-daily-chart/2020/09/30\">\\n  Sep 30, 2020\\n </a>\\n</td>\\n<td class=\"data\">\\n 10\\n</td>\\n<td class=\"data\">\\n 84\\n</td>\\n<td>\\n <a href=\"https://www.netflix.com/title/81277950\" rel=\"nofollow\" target=\"_NewWindow\">\\n  Watch Now\\n </a>\\n</td>\\n<tr>\\n <td class=\"data\" data-sort=\"6\">\\n  6\\n </td>\\n <td class=\"data\" data-sort=\"6\">\\n  (6)\\n </td>\\n <td class=\"data\" data-sort=\"999\">\\n  (-)\\n </td>\\n <td>\\n  <b>\\n   <a href=\"/movie/Welcome-to-Sudden-Death-(2020)#tab=video-sales\">\\n    Welcome to Sudden Death\\n   </a>\\n  </b>\\n </td>\\n</tr>\\n<td>\\n Movie\\n</td>\\n<td>\\n</td>\\n<td>\\n <a href=\"/home-market/netflix-daily-chart/2020/09/29\">\\n  Sep 29, 2020\\n </a>\\n</td>\\n<td class=\"data\">\\n 3\\n</td>\\n<td class=\"data\">\\n 14\\n</td>\\n<td>\\n <a href=\"https://www.netflix.com/title/81300005\" rel=\"nofollow\" target=\"_NewWindow\">\\n  Watch Now\\n </a>\\n</td>\\n<tr>\\n <td class=\"data\" data-sort=\"7\">\\n  7\\n </td>\\n <td class=\"data\" data-sort=\"999\">\\n  (-)\\n </td>\\n <td class=\"data\" data-sort=\"7\">\\n  (7)\\n </td>\\n <td>\\n  <b>\\n   <a href=\"/tv-show/Great-British-Baking-Show-The#tab=netflix\">\\n    The Great British Baking Show\\n   </a>\\n  </b>\\n </td>\\n</tr>\\n<td>\\n TV Show\\n</td>\\n<td class=\"data\">\\n Yes\\n</td>\\n<td>\\n</td>\\n<td class=\"data\">\\n 2\\n</td>\\n<td class=\"data\">\\n 8\\n</td>\\n<td>\\n <a href=\"https://www.netflix.com/title/80063224\" rel=\"nofollow\" target=\"_NewWindow\">\\n  Watch Now\\n </a>\\n</td>\\n<tr>\\n <td class=\"data chart_down\" data-sort=\"8\">\\n  8\\n </td>\\n <td class=\"data\" data-sort=\"7\">\\n  (7)\\n </td>\\n <td class=\"data\" data-sort=\"999\">\\n  (-)\\n </td>\\n <td>\\n  <b>\\n   <a href=\"/tv-show/Wentworth#tab=netflix\">\\n    Wentworth\\n   </a>\\n  </b>\\n </td>\\n</tr>\\n<td>\\n TV Show\\n</td>\\n<td>\\n</td>\\n<td>\\n</td>\\n<td class=\"data\">\\n 3\\n</td>\\n<td class=\"data\">\\n 8\\n</td>\\n<td>\\n <a href=\"https://www.netflix.com/title/80013249\" rel=\"nofollow\" target=\"_NewWindow\">\\n  Watch Now\\n </a>\\n</td>\\n<tr>\\n <td class=\"data chart_down\" data-sort=\"9\">\\n  9\\n </td>\\n <td class=\"data\" data-sort=\"5\">\\n  (5)\\n </td>\\n <td class=\"data\" data-sort=\"999\">\\n  (-)\\n </td>\\n <td>\\n  <b>\\n   <a href=\"/tv-show/Good-Place-The#tab=netflix\">\\n    The Good Place\\n   </a>\\n  </b>\\n </td>\\n</tr>\\n<td>\\n TV Show\\n</td>\\n<td>\\n</td>\\n<td>\\n</td>\\n<td class=\"data\">\\n 7\\n</td>\\n<td class=\"data\">\\n 37\\n</td>\\n<td>\\n <a href=\"https://www.netflix.com/title/80113701\" rel=\"nofollow\" target=\"_NewWindow\">\\n  Watch Now\\n </a>\\n</td>\\n<tr>\\n <td class=\"data\" data-sort=\"10\">\\n  10\\n </td>\\n <td class=\"data\" data-sort=\"10\">\\n  (10)\\n </td>\\n <td class=\"data\" data-sort=\"9\">\\n  (9)\\n </td>\\n <td>\\n  <b>\\n   <a href=\"/tv-show/Cocomelon#tab=netflix\">\\n    Cocomelon\\n   </a>\\n  </b>\\n </td>\\n</tr>\\n<td>\\n TV Show\\n</td>\\n<td>\\n</td>\\n<td>\\n <a href=\"/home-market/netflix-daily-chart/2020/06/01\">\\n  Jun 1, 2020\\n </a>\\n</td>\\n<td class=\"data\">\\n 23\\n</td>\\n<td class=\"data\">\\n 52\\n</td>\\n<td>\\n <a href=\"https://www.netflix.com/title/81273085\" rel=\"nofollow\" target=\"_NewWindow\">\\n  Watch Now\\n </a>\\n</td>\\n<div id=\"news\">\\n <p>\\n  <p>\\n   Source:\\n   <a href=\"https://www.netflix.com\">\\n    Netflix\\n   </a>\\n   <p>\\n    The Days in Top 10 column shows the total days this program has been in the top 10, not necessarily consecutively. The Viewership Score is a score assigned to each show based on its historical daily ranking, assigning 10 points for each no. 1 ranking, 9 points for each no. 2 ranking etc.\\n   </p>\\n  </p>\\n </p>\\n</div>\\n<center>\\n <div id=\"ld-5528-8763\">\\n </div>\\n <script>\\n  (function(w,d,s,i){w.ldAdInit=w.ldAdInit||[];w.ldAdInit.push({slot:8064227944564327,size:[0, 0],id:\"ld-5528-8763\"});if(!d.getElementById(i)){var j=d.createElement(s),p=d.getElementsByTagName(s)[0];j.async=true;j.src=\"//cdn2.lockerdomecdn.com/_js/ajs.js\";j.id=i;p.parentNode.insertBefore(j,p);}})(window,document,\"script\",\"ld-ajs\");\\n </script>\\n</center>\\n<div id=\"sidebar\">\\n <h1>\\n  Quick Links\\n </h1>\\n <ul style=\"display: inline-block;font-size: 100%;\">\\n  <li>\\n   <a href=\"/weekly-deg-watched-at-home-chart\">\\n    DEG Watched at Home Top 20\\n   </a>\\n  </li>\\n  <li>\\n   <a href=\"/netflix-top-10\">\\n    Netflix Daily Top 10\\n   </a>\\n  </li>\\n  <li>\\n   <a href=\"/weekly-video-sales-chart\">\\n    Weekly DVD+Blu-ray Chart\\n   </a>\\n  </li>\\n  <li>\\n   <a href=\"/news/\">\\n    News\\n   </a>\\n  </li>\\n  <li>\\n   <a href=\"/movies/release-schedule\">\\n    Release Schedule\\n   </a>\\n  </li>\\n  <li>\\n   <a href=\"/daily-box-office-chart\">\\n    Daily Box Office\\n   </a>\\n  </li>\\n  <li>\\n   <a href=\"/weekend-box-office-chart\">\\n    Weekend Box Office\\n   </a>\\n  </li>\\n  <li>\\n   <a href=\"/weekly-box-office-chart\">\\n    Weekly Box Office\\n   </a>\\n  </li>\\n  <li>\\n   <a href=\"/market/2020/summary\">\\n    Annual Box Office\\n   </a>\\n  </li>\\n  <li>\\n   <a href=\"/box-office-records/\">\\n    Box Office Records\\n   </a>\\n  </li>\\n  <li>\\n   <a href=\"/international-charts-overview\">\\n    International Box Office\\n   </a>\\n  </li>\\n  <li>\\n   <a href=\"/market/distributors\">\\n    Distributors\\n   </a>\\n  </li>\\n  <li>\\n   <a href=\"/box-office-star-records/\">\\n    People Records\\n   </a>\\n  </li>\\n  <li>\\n   <a href=\"/people-ind\">\\n    People Index\\n   </a>\\n  </li>\\n  <li>\\n   <a href=\"/market/genres\">\\n    Genre Tracking\\n   </a>\\n  </li>\\n  <li>\\n   <a href=\"/movies/keywords\">\\n    Keyword Tracking\\n   </a>\\n  </li>\\n  <li>\\n   <a href=\"/movies/franchises\">\\n    Franchises\\n   </a>\\n  </li>\\n  <li>\\n   <a href=\"/research-tools\">\\n    Research Tools\\n   </a>\\n  </li>\\n  <li>\\n   <a href=\"/bankability\">\\n    Bankability Index\\n   </a>\\n  </li>\\n </ul>\\n <center>\\n  <h1>\\n   Search\\n  </h1>\\n  <form action=\"/custom-search\" method=\"get\">\\n   <input name=\"searchterm\" onkeyup=\"if (event.keyCode == 13) { this.form.submit(); return false; }\" size=\"36\" type=\"text\" value=\"\"/>\\n  </form>\\n </center>\\n <br/>\\n <center>\\n  <script type=\"text/javascript\">\\n   <!--\\r\\ne9 = new Object();\\r\\ne9.size = \"300x250\";\\r\\n//-->\\n  </script>\\n  <script src=\"//tags.expo9.exponential.com/tags/TheNumbers/ROS/tags.js\" type=\"text/javascript\">\\n  </script>\\n </center>\\n <h1>\\n  <a class=\"inh1\" href=\"/movies/most-anticipated\">\\n   Most Anticipated Movies\\n  </a>\\n </h1>\\n <ul>\\n  <li>\\n   <a href=\"/movie/Redwood-Massacre-Annihilation-(2020)#tab=summary\">\\n    Redwood Massacre: Annihilation\\n   </a>\\n  </li>\\n  <li>\\n   <a href=\"/movie/Croods-A-New-Age-The-(2020)#tab=summary\">\\n    The Croods: A New Age\\n   </a>\\n  </li>\\n  <li>\\n   <a href=\"/movie/Dear-Santa-(2020)#tab=summary\">\\n    Dear Santa\\n   </a>\\n  </li>\\n  <li>\\n   <a href=\"/movie/American-Pie-Presents-Girls-Rules-(2020)#tab=summary\">\\n    American Pie Presents: Girlsâ\\x80\\x99 Rules\\n   </a>\\n  </li>\\n  <li>\\n   <a href=\"/movie/No-Time-to-Die-(2020)#tab=summary\">\\n    No Time to Die\\n   </a>\\n  </li>\\n  <li>\\n   <a href=\"/movie/Honest-Thief-(2020)#tab=summary\">\\n    Honest Thief\\n   </a>\\n  </li>\\n  <li>\\n   <a href=\"/movie/Hubie-Halloween-(2020)#tab=summary\">\\n    Hubie Halloween\\n   </a>\\n  </li>\\n  <li>\\n   <a href=\"/movie/Witches-The-(2020)#tab=summary\">\\n    The Witches\\n   </a>\\n  </li>\\n  <li>\\n   <a href=\"/movie/F9-The-Fast-Saga#tab=summary\">\\n    F9: The Fast Saga\\n   </a>\\n  </li>\\n  <li>\\n   <a href=\"/movie/Craft-Legacy-The-(2020)#tab=summary\">\\n    The Craft: Legacy\\n   </a>\\n  </li>\\n </ul>\\n <center>\\n  <script async=\"\" src=\"//pagead2.googlesyndication.com/pagead/js/adsbygoogle.js\">\\n  </script>\\n  <!-- right panel 2 main -->\\n  <ins class=\"adsbygoogle\" data-ad-client=\"ca-pub-0505053220181058\" data-ad-format=\"rectangle\" data-ad-slot=\"1574707950\" style=\"display:block\">\\n  </ins>\\n  <script>\\n   (adsbygoogle = window.adsbygoogle || []).push({});\\n  </script>\\n </center>\\n <h1>\\n  <a class=\"inh1\" href=\"/movies/trending\">\\n   Trending Movies\\n  </a>\\n </h1>\\n <ul>\\n  <li>\\n   <a href=\"/movie/Cats-and-Dogs-3-Paws-Unite-(2020)#tab=summary\">\\n    Cats &amp; Dogs 3: Paws Unite!\\n   </a>\\n  </li>\\n  <li>\\n   <a href=\"/movie/Tenet-(2020)#tab=summary\">\\n    Tenet\\n   </a>\\n  </li>\\n  <li>\\n   <a href=\"/movie/Superman-Man-of-Tomorrow-(2020)#tab=summary\">\\n    Superman: Man of Tomorrow\\n   </a>\\n  </li>\\n  <li>\\n   <a href=\"/movie/Redwood-Massacre-Annihilation-(2020)#tab=summary\">\\n    Redwood Massacre: Annihilation\\n   </a>\\n  </li>\\n  <li>\\n   <a href=\"/movie/Wolfman-The-(2010)#tab=summary\">\\n    The Wolfman\\n   </a>\\n  </li>\\n  <li>\\n   <a href=\"/movie/Nightmare-on-Elm-Street-3-A-Dream-Warriors-(1987)#tab=summary\">\\n    A Nightmare On Elm Street 3: Dream Warriors\\n   </a>\\n  </li>\\n  <li>\\n   <a href=\"/movie/Enola-Holmes#tab=summary\">\\n    Enola Holmes\\n   </a>\\n  </li>\\n  <li>\\n   <a href=\"/movie/Barbershop-The-Next-Cut#tab=summary\">\\n    Barbershop: The Next Cut\\n   </a>\\n  </li>\\n  <li>\\n   <a href=\"/movie/Mulan-(2020)#tab=summary\">\\n    Mulan\\n   </a>\\n  </li>\\n  <li>\\n   <a href=\"/movie/Hocus-Pocus-(1993)#tab=summary\">\\n    Hocus Pocus\\n   </a>\\n  </li>\\n </ul>\\n <center>\\n  <!-- Insticator API Fire Widget -->\\n  <div id=\"insticator-container\">\\n   <div id=\"div-insticator-ad-1\">\\n   </div>\\n   <div id=\"insticator-embed\">\\n   </div>\\n   <div id=\"div-insticator-ad-2\">\\n   </div>\\n   <script data-cfasync=\"false\" type=\"text/javascript\">\\n    /*<![CDATA[*/Insticator.ad.loadAd(\"div-insticator-ad-1\");Insticator.ad.loadAd(\"div-insticator-ad-2\");Insticator.load(\"em\",{id : \"26fd9024-230f-4e85-8bb3-d545d8a710d4\"})/*]]>*/\\n   </script>\\n  </div>\\n  <!-- End Insticator API Fire Widget -->\\n </center>\\n <h1>\\n  <a class=\"inh1\" href=\"/people/trending\">\\n   Trending People\\n  </a>\\n </h1>\\n <ul>\\n  <ul style=\"display: inline-block;font-size: 100%;\">\\n   <li>\\n    <a href=\"/person/73970401-Milla-Jovovich\">\\n     Milla Jovovich\\n    </a>\\n   </li>\\n   <li>\\n    <a href=\"/person/540401-Tom-Cruise\">\\n     Tom Cruise\\n    </a>\\n   </li>\\n   <li>\\n    <a href=\"/person/106410401-Christopher-Nolan\">\\n     Christopher Nolan\\n    </a>\\n   </li>\\n   <li>\\n    <a href=\"/person/770401-Will-Smith\">\\n     Will Smith\\n    </a>\\n   </li>\\n   <li>\\n    <a href=\"/person/670401-L-Jackson-Samuel\">\\n     Samuel L. Jackson\\n    </a>\\n   </li>\\n  </ul>\\n  <ul style=\"display: inline-block;font-size: 100%;\">\\n   <li>\\n    <a href=\"/person/72460401-Scarlett-Johansson\">\\n     Scarlett Johansson\\n    </a>\\n   </li>\\n   <li>\\n    <a href=\"/person/126870401-Adam-Sandler\">\\n     Adam Sandler\\n    </a>\\n   </li>\\n   <li>\\n    <a href=\"/person/580401-Johnny-Depp\">\\n     Johnny Depp\\n    </a>\\n   </li>\\n   <li>\\n    <a href=\"/person/41500401-Jr-Downey-Robert\">\\n     Robert Downey, Jr.\\n    </a>\\n   </li>\\n   <li>\\n    <a href=\"/person/72720401-Dwayne-Johnson\">\\n     Dwayne Johnson\\n    </a>\\n   </li>\\n  </ul>\\n  <center>\\n   <!-- Insticator API Fire Widget Ads Code -->\\n   <div id=\"div-insticator-ad-3\">\\n   </div>\\n   <script data-cfasync=\"false\" type=\"text/javascript\">\\n    /*<![CDATA[*/Insticator.ad.loadAd(\"div-insticator-ad-3\");/*]]>*/\\n   </script>\\n   <!-- End Insticator API Fire Widget Ads Code -->\\n  </center>\\n </ul>\\n</div>\\n<div id=\"footer\">\\n <b>\\n  © 1997-2020\\n  <a href=\"https://www.nashinfoservices.com\" rel=\"nofollow\">\\n   Nash Information Services, LLC\\n  </a>\\n  . All rights reserved.\\n </b>\\n <br/>\\n <b>\\n  The Numbers is a registered trademark of Nash Information Services, LLC\\n </b>\\n <br/>\\n <b>\\n  For comments or corrections, please email us at\\n  <a href=\"mailto:corrections@the-numbers.com\">\\n   corrections@the-numbers.com\\n  </a>\\n </b>\\n <br/>\\n <br/>\\n <a href=\"/privacy\">\\n  Privacy Policy\\n </a>\\n -\\n <a href=\"/about\">\\n  About Us\\n </a>\\n -\\n <a href=\"/glossary\">\\n  Glossary\\n </a>\\n</div>\\n'"
      ]
     },
     "execution_count": 9,
     "metadata": {},
     "output_type": "execute_result"
    }
   ],
   "source": [
    "soup.prettify()"
   ]
  },
  {
   "cell_type": "code",
   "execution_count": 26,
   "metadata": {},
   "outputs": [
    {
     "data": {
      "text/plain": [
       "['American Murder: The Family…',\n",
       " 'American Murder: The Family…',\n",
       " 'American Murder: The Family…',\n",
       " 'American Murder: The Family…',\n",
       " 'American Murder: The Family…',\n",
       " 'American Murder: The Family…',\n",
       " 'American Murder: The Family…',\n",
       " 'American Murder: The Family…',\n",
       " 'American Murder: The Family…',\n",
       " 'American Murder: The Family…']"
      ]
     },
     "execution_count": 26,
     "metadata": {},
     "output_type": "execute_result"
    }
   ],
   "source": [
    "netflix_titles = []\n",
    "for child in soup.find_all('tr', class_=False):\n",
    "    if child.find('a') is not None:\n",
    "        names = soup.find('b')\n",
    "        netflix_titles.append(names.a.text)\n",
    "netflix_titles"
   ]
  },
  {
   "cell_type": "code",
   "execution_count": 27,
   "metadata": {},
   "outputs": [
    {
     "data": {
      "text/plain": [
       "[<tr>\n",
       " <td class=\"previous\"><a href=\"/home-market/netflix-daily-chart/2020/10/02\">← Previous Chart</a></td>\n",
       " <td class=\"index\"><a href=\"/home-market/netflix-chart-archive\">Chart Index</a></td>\n",
       " <td class=\"next\"></td>\n",
       " </tr>,\n",
       " <tr><th>Rank</th><th>YD</th><th>LW</th><th>Title</th><th>Type</th><th>Netflix<br/>Excl.</th><th>Netflix<br/>Release<br/>Date</th><th>Days In<br/>Top 10</th><th>Viewer-<br/>ship<br/>Score</th><th>Watch<br/>Now</th></tr>,\n",
       " <tr>\n",
       " <td class=\"data\" data-sort=\"1\">1</td>\n",
       " <td class=\"data\" data-sort=\"1\">(1)</td>\n",
       " <td class=\"data\" data-sort=\"999\">(-)</td>\n",
       " <td><b><a href=\"/movie/American-Murder-The-Family-Next-Door-(2020)#tab=video-sales\">American Murder: The Family…</a></b></td></tr>,\n",
       " <tr>\n",
       " <td class=\"data\" data-sort=\"2\">2</td>\n",
       " <td class=\"data\" data-sort=\"2\">(2)</td>\n",
       " <td class=\"data\" data-sort=\"2\">(2)</td>\n",
       " <td><b><a href=\"/tv-show/Ratched#tab=netflix\">Ratched</a></b></td></tr>,\n",
       " <tr>\n",
       " <td class=\"data\" data-sort=\"3\">3</td>\n",
       " <td class=\"data\" data-sort=\"3\">(3)</td>\n",
       " <td class=\"data\" data-sort=\"999\">(-)</td>\n",
       " <td><b><a href=\"/movie/Outpost-The#tab=video-sales\">The Outpost</a></b></td></tr>,\n",
       " <tr>\n",
       " <td class=\"data\" data-sort=\"4\">4</td>\n",
       " <td class=\"data\" data-sort=\"999\">(-)</td>\n",
       " <td class=\"data\" data-sort=\"999\">(-)</td>\n",
       " <td><b><a href=\"/tv-show/Emily-in-Paris#tab=netflix\">Emily in Paris</a></b></td></tr>,\n",
       " <tr>\n",
       " <td class=\"data chart_down\" data-sort=\"5\">5</td>\n",
       " <td class=\"data\" data-sort=\"4\">(4)</td>\n",
       " <td class=\"data\" data-sort=\"1\">(1)</td>\n",
       " <td><b><a href=\"/movie/Enola-Holmes#tab=video-sales\">Enola Holmes</a></b></td></tr>,\n",
       " <tr>\n",
       " <td class=\"data\" data-sort=\"6\">6</td>\n",
       " <td class=\"data\" data-sort=\"6\">(6)</td>\n",
       " <td class=\"data\" data-sort=\"999\">(-)</td>\n",
       " <td><b><a href=\"/movie/Welcome-to-Sudden-Death-(2020)#tab=video-sales\">Welcome to Sudden Death</a></b></td></tr>,\n",
       " <tr>\n",
       " <td class=\"data\" data-sort=\"7\">7</td>\n",
       " <td class=\"data\" data-sort=\"999\">(-)</td>\n",
       " <td class=\"data\" data-sort=\"7\">(7)</td>\n",
       " <td><b><a href=\"/tv-show/Great-British-Baking-Show-The#tab=netflix\">The Great British Baking Show</a></b></td></tr>,\n",
       " <tr>\n",
       " <td class=\"data chart_down\" data-sort=\"8\">8</td>\n",
       " <td class=\"data\" data-sort=\"7\">(7)</td>\n",
       " <td class=\"data\" data-sort=\"999\">(-)</td>\n",
       " <td><b><a href=\"/tv-show/Wentworth#tab=netflix\">Wentworth</a></b></td></tr>,\n",
       " <tr>\n",
       " <td class=\"data chart_down\" data-sort=\"9\">9</td>\n",
       " <td class=\"data\" data-sort=\"5\">(5)</td>\n",
       " <td class=\"data\" data-sort=\"999\">(-)</td>\n",
       " <td><b><a href=\"/tv-show/Good-Place-The#tab=netflix\">The Good Place</a></b></td></tr>,\n",
       " <tr>\n",
       " <td class=\"data\" data-sort=\"10\">10</td>\n",
       " <td class=\"data\" data-sort=\"10\">(10)</td>\n",
       " <td class=\"data\" data-sort=\"9\">(9)</td>\n",
       " <td><b><a href=\"/tv-show/Cocomelon#tab=netflix\">Cocomelon</a></b></td></tr>]"
      ]
     },
     "execution_count": 27,
     "metadata": {},
     "output_type": "execute_result"
    }
   ],
   "source": [
    "containers = soup.find_all('tr', class_=False, id_=False)\n",
    "containers"
   ]
  },
  {
   "cell_type": "code",
   "execution_count": 31,
   "metadata": {},
   "outputs": [
    {
     "data": {
      "text/plain": [
       "<tr>\n",
       "<td class=\"data\" data-sort=\"1\">1</td>\n",
       "<td class=\"data\" data-sort=\"1\">(1)</td>\n",
       "<td class=\"data\" data-sort=\"999\">(-)</td>\n",
       "<td><b><a href=\"/movie/American-Murder-The-Family-Next-Door-(2020)#tab=video-sales\">American Murder: The Family…</a></b></td></tr>"
      ]
     },
     "execution_count": 31,
     "metadata": {},
     "output_type": "execute_result"
    }
   ],
   "source": [
    "containers[2]"
   ]
  },
  {
   "cell_type": "code",
   "execution_count": 39,
   "metadata": {},
   "outputs": [
    {
     "data": {
      "text/plain": [
       "'American Murder: The Family…'"
      ]
     },
     "execution_count": 39,
     "metadata": {},
     "output_type": "execute_result"
    }
   ],
   "source": [
    "title = containers[2].find('a').text"
   ]
  },
  {
   "cell_type": "code",
   "execution_count": 43,
   "metadata": {},
   "outputs": [
    {
     "data": {
      "text/plain": [
       "['American Murder: The Family…',\n",
       " 'American Murder: The Family…',\n",
       " 'American Murder: The Family…',\n",
       " 'American Murder: The Family…',\n",
       " 'American Murder: The Family…',\n",
       " 'American Murder: The Family…',\n",
       " 'American Murder: The Family…',\n",
       " 'American Murder: The Family…',\n",
       " 'American Murder: The Family…',\n",
       " 'American Murder: The Family…',\n",
       " 'American Murder: The Family…',\n",
       " 'American Murder: The Family…']"
      ]
     },
     "execution_count": 43,
     "metadata": {},
     "output_type": "execute_result"
    }
   ],
   "source": [
    "netflix_titles = []\n",
    "for x in containers:\n",
    "    if child.find('a') is not None:\n",
    "        title = containers[2].find('a').text\n",
    "        netflix_titles.append(title)\n",
    "netflix_titles"
   ]
  },
  {
   "cell_type": "code",
   "execution_count": 45,
   "metadata": {},
   "outputs": [
    {
     "data": {
      "text/plain": [
       "[<td class=\"data\" data-sort=\"1\">1</td>,\n",
       " <td class=\"data\" data-sort=\"1\">(1)</td>,\n",
       " <td class=\"data\" data-sort=\"999\">(-)</td>,\n",
       " <td class=\"data\">Yes</td>,\n",
       " <td class=\"data\">3</td>,\n",
       " <td class=\"data\">30</td>,\n",
       " <td class=\"data\" data-sort=\"2\">2</td>,\n",
       " <td class=\"data\" data-sort=\"2\">(2)</td>,\n",
       " <td class=\"data\" data-sort=\"2\">(2)</td>,\n",
       " <td class=\"data\">Yes</td>,\n",
       " <td class=\"data\">15</td>,\n",
       " <td class=\"data\">145</td>,\n",
       " <td class=\"data\" data-sort=\"3\">3</td>,\n",
       " <td class=\"data\" data-sort=\"3\">(3)</td>,\n",
       " <td class=\"data\" data-sort=\"999\">(-)</td>,\n",
       " <td class=\"data\">2</td>,\n",
       " <td class=\"data\">16</td>,\n",
       " <td class=\"data\" data-sort=\"4\">4</td>,\n",
       " <td class=\"data\" data-sort=\"999\">(-)</td>,\n",
       " <td class=\"data\" data-sort=\"999\">(-)</td>,\n",
       " <td class=\"data\">Yes</td>,\n",
       " <td class=\"data\">1</td>,\n",
       " <td class=\"data\">7</td>,\n",
       " <td class=\"data chart_down\" data-sort=\"5\">5</td>,\n",
       " <td class=\"data\" data-sort=\"4\">(4)</td>,\n",
       " <td class=\"data\" data-sort=\"1\">(1)</td>,\n",
       " <td class=\"data\">Yes</td>,\n",
       " <td class=\"data\">10</td>,\n",
       " <td class=\"data\">84</td>,\n",
       " <td class=\"data\" data-sort=\"6\">6</td>,\n",
       " <td class=\"data\" data-sort=\"6\">(6)</td>,\n",
       " <td class=\"data\" data-sort=\"999\">(-)</td>,\n",
       " <td class=\"data\">3</td>,\n",
       " <td class=\"data\">14</td>,\n",
       " <td class=\"data\" data-sort=\"7\">7</td>,\n",
       " <td class=\"data\" data-sort=\"999\">(-)</td>,\n",
       " <td class=\"data\" data-sort=\"7\">(7)</td>,\n",
       " <td class=\"data\">Yes</td>,\n",
       " <td class=\"data\">2</td>,\n",
       " <td class=\"data\">8</td>,\n",
       " <td class=\"data chart_down\" data-sort=\"8\">8</td>,\n",
       " <td class=\"data\" data-sort=\"7\">(7)</td>,\n",
       " <td class=\"data\" data-sort=\"999\">(-)</td>,\n",
       " <td class=\"data\">3</td>,\n",
       " <td class=\"data\">8</td>,\n",
       " <td class=\"data chart_down\" data-sort=\"9\">9</td>,\n",
       " <td class=\"data\" data-sort=\"5\">(5)</td>,\n",
       " <td class=\"data\" data-sort=\"999\">(-)</td>,\n",
       " <td class=\"data\">7</td>,\n",
       " <td class=\"data\">37</td>,\n",
       " <td class=\"data\" data-sort=\"10\">10</td>,\n",
       " <td class=\"data\" data-sort=\"10\">(10)</td>,\n",
       " <td class=\"data\" data-sort=\"9\">(9)</td>,\n",
       " <td class=\"data\">23</td>,\n",
       " <td class=\"data\">52</td>]"
      ]
     },
     "execution_count": 45,
     "metadata": {},
     "output_type": "execute_result"
    }
   ],
   "source": [
    "date = soup.find_all('td', class_='data')\n",
    "date"
   ]
  },
  {
   "cell_type": "code",
   "execution_count": 46,
   "metadata": {},
   "outputs": [
    {
     "data": {
      "text/plain": [
       "[<td class=\"previous\"><a href=\"/home-market/netflix-daily-chart/2020/10/02\">← Previous Chart</a></td>,\n",
       " <td class=\"index\"><a href=\"/home-market/netflix-chart-archive\">Chart Index</a></td>,\n",
       " <td class=\"next\"></td>,\n",
       " <td class=\"data\" data-sort=\"1\">1</td>,\n",
       " <td class=\"data\" data-sort=\"1\">(1)</td>,\n",
       " <td class=\"data\" data-sort=\"999\">(-)</td>,\n",
       " <td><b><a href=\"/movie/American-Murder-The-Family-Next-Door-(2020)#tab=video-sales\">American Murder: The Family…</a></b></td>,\n",
       " <td>Movie</td>,\n",
       " <td class=\"data\">Yes</td>,\n",
       " <td><a href=\"/home-market/netflix-daily-chart/2020/09/30\">Sep 30, 2020</a></td>,\n",
       " <td class=\"data\">3</td>,\n",
       " <td class=\"data\">30</td>,\n",
       " <td><a href=\"https://www.netflix.com/title/81130130\" rel=\"nofollow\" target=\"_NewWindow\">Watch Now</a></td>,\n",
       " <td class=\"data\" data-sort=\"2\">2</td>,\n",
       " <td class=\"data\" data-sort=\"2\">(2)</td>,\n",
       " <td class=\"data\" data-sort=\"2\">(2)</td>,\n",
       " <td><b><a href=\"/tv-show/Ratched#tab=netflix\">Ratched</a></b></td>,\n",
       " <td>TV Show</td>,\n",
       " <td class=\"data\">Yes</td>,\n",
       " <td><a href=\"/home-market/netflix-daily-chart/2020/09/18\">Sep 18, 2020</a></td>,\n",
       " <td class=\"data\">15</td>,\n",
       " <td class=\"data\">145</td>,\n",
       " <td><a href=\"https://www.netflix.com/title/80213445\" rel=\"nofollow\" target=\"_NewWindow\">Watch Now</a></td>,\n",
       " <td class=\"data\" data-sort=\"3\">3</td>,\n",
       " <td class=\"data\" data-sort=\"3\">(3)</td>,\n",
       " <td class=\"data\" data-sort=\"999\">(-)</td>,\n",
       " <td><b><a href=\"/movie/Outpost-The#tab=video-sales\">The Outpost</a></b></td>,\n",
       " <td>Movie</td>,\n",
       " <td></td>,\n",
       " <td></td>,\n",
       " <td class=\"data\">2</td>,\n",
       " <td class=\"data\">16</td>,\n",
       " <td><a href=\"https://www.netflix.com/title/81276140\" rel=\"nofollow\" target=\"_NewWindow\">Watch Now</a></td>,\n",
       " <td class=\"data\" data-sort=\"4\">4</td>,\n",
       " <td class=\"data\" data-sort=\"999\">(-)</td>,\n",
       " <td class=\"data\" data-sort=\"999\">(-)</td>,\n",
       " <td><b><a href=\"/tv-show/Emily-in-Paris#tab=netflix\">Emily in Paris</a></b></td>,\n",
       " <td>TV Show</td>,\n",
       " <td class=\"data\">Yes</td>,\n",
       " <td><a href=\"/home-market/netflix-daily-chart/2020/10/02\">Oct 2, 2020</a></td>,\n",
       " <td class=\"data\">1</td>,\n",
       " <td class=\"data\">7</td>,\n",
       " <td></td>,\n",
       " <td class=\"data chart_down\" data-sort=\"5\">5</td>,\n",
       " <td class=\"data\" data-sort=\"4\">(4)</td>,\n",
       " <td class=\"data\" data-sort=\"1\">(1)</td>,\n",
       " <td><b><a href=\"/movie/Enola-Holmes#tab=video-sales\">Enola Holmes</a></b></td>,\n",
       " <td>Movie</td>,\n",
       " <td class=\"data\">Yes</td>,\n",
       " <td><a href=\"/home-market/netflix-daily-chart/2020/09/30\">Sep 30, 2020</a></td>,\n",
       " <td class=\"data\">10</td>,\n",
       " <td class=\"data\">84</td>,\n",
       " <td><a href=\"https://www.netflix.com/title/81277950\" rel=\"nofollow\" target=\"_NewWindow\">Watch Now</a></td>,\n",
       " <td class=\"data\" data-sort=\"6\">6</td>,\n",
       " <td class=\"data\" data-sort=\"6\">(6)</td>,\n",
       " <td class=\"data\" data-sort=\"999\">(-)</td>,\n",
       " <td><b><a href=\"/movie/Welcome-to-Sudden-Death-(2020)#tab=video-sales\">Welcome to Sudden Death</a></b></td>,\n",
       " <td>Movie</td>,\n",
       " <td></td>,\n",
       " <td><a href=\"/home-market/netflix-daily-chart/2020/09/29\">Sep 29, 2020</a></td>,\n",
       " <td class=\"data\">3</td>,\n",
       " <td class=\"data\">14</td>,\n",
       " <td><a href=\"https://www.netflix.com/title/81300005\" rel=\"nofollow\" target=\"_NewWindow\">Watch Now</a></td>,\n",
       " <td class=\"data\" data-sort=\"7\">7</td>,\n",
       " <td class=\"data\" data-sort=\"999\">(-)</td>,\n",
       " <td class=\"data\" data-sort=\"7\">(7)</td>,\n",
       " <td><b><a href=\"/tv-show/Great-British-Baking-Show-The#tab=netflix\">The Great British Baking Show</a></b></td>,\n",
       " <td>TV Show</td>,\n",
       " <td class=\"data\">Yes</td>,\n",
       " <td></td>,\n",
       " <td class=\"data\">2</td>,\n",
       " <td class=\"data\">8</td>,\n",
       " <td><a href=\"https://www.netflix.com/title/80063224\" rel=\"nofollow\" target=\"_NewWindow\">Watch Now</a></td>,\n",
       " <td class=\"data chart_down\" data-sort=\"8\">8</td>,\n",
       " <td class=\"data\" data-sort=\"7\">(7)</td>,\n",
       " <td class=\"data\" data-sort=\"999\">(-)</td>,\n",
       " <td><b><a href=\"/tv-show/Wentworth#tab=netflix\">Wentworth</a></b></td>,\n",
       " <td>TV Show</td>,\n",
       " <td></td>,\n",
       " <td></td>,\n",
       " <td class=\"data\">3</td>,\n",
       " <td class=\"data\">8</td>,\n",
       " <td><a href=\"https://www.netflix.com/title/80013249\" rel=\"nofollow\" target=\"_NewWindow\">Watch Now</a></td>,\n",
       " <td class=\"data chart_down\" data-sort=\"9\">9</td>,\n",
       " <td class=\"data\" data-sort=\"5\">(5)</td>,\n",
       " <td class=\"data\" data-sort=\"999\">(-)</td>,\n",
       " <td><b><a href=\"/tv-show/Good-Place-The#tab=netflix\">The Good Place</a></b></td>,\n",
       " <td>TV Show</td>,\n",
       " <td></td>,\n",
       " <td></td>,\n",
       " <td class=\"data\">7</td>,\n",
       " <td class=\"data\">37</td>,\n",
       " <td><a href=\"https://www.netflix.com/title/80113701\" rel=\"nofollow\" target=\"_NewWindow\">Watch Now</a></td>,\n",
       " <td class=\"data\" data-sort=\"10\">10</td>,\n",
       " <td class=\"data\" data-sort=\"10\">(10)</td>,\n",
       " <td class=\"data\" data-sort=\"9\">(9)</td>,\n",
       " <td><b><a href=\"/tv-show/Cocomelon#tab=netflix\">Cocomelon</a></b></td>,\n",
       " <td>TV Show</td>,\n",
       " <td></td>,\n",
       " <td><a href=\"/home-market/netflix-daily-chart/2020/06/01\">Jun 1, 2020</a></td>,\n",
       " <td class=\"data\">23</td>,\n",
       " <td class=\"data\">52</td>,\n",
       " <td><a href=\"https://www.netflix.com/title/81273085\" rel=\"nofollow\" target=\"_NewWindow\">Watch Now</a></td>]"
      ]
     },
     "execution_count": 46,
     "metadata": {},
     "output_type": "execute_result"
    }
   ],
   "source": [
    "z = soup.find_all('td')\n",
    "z"
   ]
  },
  {
   "cell_type": "code",
   "execution_count": 47,
   "metadata": {},
   "outputs": [
    {
     "data": {
      "text/plain": [
       "<td class=\"previous\"><a href=\"/home-market/netflix-daily-chart/2020/10/02\">← Previous Chart</a></td>"
      ]
     },
     "execution_count": 47,
     "metadata": {},
     "output_type": "execute_result"
    }
   ],
   "source": [
    "z.pop(0)"
   ]
  },
  {
   "cell_type": "code",
   "execution_count": 48,
   "metadata": {},
   "outputs": [
    {
     "data": {
      "text/plain": [
       "<td class=\"index\"><a href=\"/home-market/netflix-chart-archive\">Chart Index</a></td>"
      ]
     },
     "execution_count": 48,
     "metadata": {},
     "output_type": "execute_result"
    }
   ],
   "source": [
    "z.pop(0)"
   ]
  },
  {
   "cell_type": "code",
   "execution_count": 49,
   "metadata": {},
   "outputs": [
    {
     "data": {
      "text/plain": [
       "<td class=\"next\"></td>"
      ]
     },
     "execution_count": 49,
     "metadata": {},
     "output_type": "execute_result"
    }
   ],
   "source": [
    "z.pop(0)"
   ]
  },
  {
   "cell_type": "code",
   "execution_count": 59,
   "metadata": {},
   "outputs": [],
   "source": [
    "# TITLE - FIRST INSTANCE\n",
    "title = []\n",
    "title.append(z[3::10])"
   ]
  },
  {
   "cell_type": "code",
   "execution_count": 60,
   "metadata": {},
   "outputs": [],
   "source": [
    "title = title[0]"
   ]
  },
  {
   "cell_type": "code",
   "execution_count": 61,
   "metadata": {},
   "outputs": [
    {
     "data": {
      "text/plain": [
       "'American Murder: The Family…'"
      ]
     },
     "execution_count": 61,
     "metadata": {},
     "output_type": "execute_result"
    }
   ],
   "source": [
    "title[0].text"
   ]
  },
  {
   "cell_type": "code",
   "execution_count": 64,
   "metadata": {},
   "outputs": [
    {
     "data": {
      "text/plain": [
       "['American Murder: The Family…',\n",
       " 'Ratched',\n",
       " 'The Outpost',\n",
       " 'Emily in Paris',\n",
       " 'Enola Holmes',\n",
       " 'Welcome to Sudden Death',\n",
       " 'The Great British Baking Show',\n",
       " 'Wentworth',\n",
       " 'The Good Place',\n",
       " 'Cocomelon']"
      ]
     },
     "execution_count": 64,
     "metadata": {},
     "output_type": "execute_result"
    }
   ],
   "source": [
    "# TITLE - TOP 10 \n",
    "title1 = []\n",
    "for titl in title:\n",
    "    title1.append(titl.text)\n",
    "title1"
   ]
  },
  {
   "cell_type": "code",
   "execution_count": 50,
   "metadata": {},
   "outputs": [],
   "source": [
    "# TYPE - FIRST INSTANCE\n",
    "types = []\n",
    "types.append(z[4::10])"
   ]
  },
  {
   "cell_type": "code",
   "execution_count": 51,
   "metadata": {},
   "outputs": [],
   "source": [
    "types = types[0]"
   ]
  },
  {
   "cell_type": "code",
   "execution_count": 52,
   "metadata": {},
   "outputs": [
    {
     "data": {
      "text/plain": [
       "'Movie'"
      ]
     },
     "execution_count": 52,
     "metadata": {},
     "output_type": "execute_result"
    }
   ],
   "source": [
    "types[0].text"
   ]
  },
  {
   "cell_type": "code",
   "execution_count": 53,
   "metadata": {},
   "outputs": [
    {
     "data": {
      "text/plain": [
       "['Movie',\n",
       " 'TV Show',\n",
       " 'Movie',\n",
       " 'TV Show',\n",
       " 'Movie',\n",
       " 'Movie',\n",
       " 'TV Show',\n",
       " 'TV Show',\n",
       " 'TV Show',\n",
       " 'TV Show']"
      ]
     },
     "execution_count": 53,
     "metadata": {},
     "output_type": "execute_result"
    }
   ],
   "source": [
    "# TYPE - TOP 10 \n",
    "types1 = []\n",
    "for typ in types:\n",
    "    types1.append(typ.text)\n",
    "types1"
   ]
  },
  {
   "cell_type": "code",
   "execution_count": 54,
   "metadata": {},
   "outputs": [],
   "source": [
    "# DATE OF RELEASE - FIRST INSTANCE \n",
    "dates = []\n",
    "dates.append(z[6::10])"
   ]
  },
  {
   "cell_type": "code",
   "execution_count": 55,
   "metadata": {},
   "outputs": [],
   "source": [
    "dates = dates[0]"
   ]
  },
  {
   "cell_type": "code",
   "execution_count": 56,
   "metadata": {},
   "outputs": [
    {
     "data": {
      "text/plain": [
       "'Sep 30, 2020'"
      ]
     },
     "execution_count": 56,
     "metadata": {},
     "output_type": "execute_result"
    }
   ],
   "source": [
    "dates[0].text"
   ]
  },
  {
   "cell_type": "code",
   "execution_count": 58,
   "metadata": {},
   "outputs": [
    {
     "data": {
      "text/plain": [
       "['Sep 30, 2020',\n",
       " 'Sep 18, 2020',\n",
       " '',\n",
       " 'Oct 2, 2020',\n",
       " 'Sep 30, 2020',\n",
       " 'Sep 29, 2020',\n",
       " '',\n",
       " '',\n",
       " '',\n",
       " 'Jun 1, 2020']"
      ]
     },
     "execution_count": 58,
     "metadata": {},
     "output_type": "execute_result"
    }
   ],
   "source": [
    "# DATE OF RELEASE - TOP 10\n",
    "dates1 = []\n",
    "for dat in dates:\n",
    "    dates1.append(dat.text)\n",
    "dates1"
   ]
  },
  {
   "cell_type": "code",
   "execution_count": null,
   "metadata": {},
   "outputs": [],
   "source": []
  }
 ],
 "metadata": {
  "kernelspec": {
   "display_name": "Python 3",
   "language": "python",
   "name": "python3"
  },
  "language_info": {
   "codemirror_mode": {
    "name": "ipython",
    "version": 3
   },
   "file_extension": ".py",
   "mimetype": "text/x-python",
   "name": "python",
   "nbconvert_exporter": "python",
   "pygments_lexer": "ipython3",
   "version": "3.6.9"
  }
 },
 "nbformat": 4,
 "nbformat_minor": 4
}
